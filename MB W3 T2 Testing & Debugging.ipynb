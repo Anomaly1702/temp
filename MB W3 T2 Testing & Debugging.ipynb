{
 "cells": [
  {
   "cell_type": "code",
   "execution_count": 11,
   "metadata": {},
   "outputs": [],
   "source": [
    "import pandas as pd\n",
    "import numpy as np\n",
    "import otter\n",
    "grader = otter.Notebook()"
   ]
  },
  {
   "cell_type": "code",
   "execution_count": 10,
   "metadata": {},
   "outputs": [
    {
     "name": "stdout",
     "output_type": "stream",
     "text": [
      "Collecting otter-grader\n",
      "  Downloading https://files.pythonhosted.org/packages/a7/91/66d7d696fbd4c293660803713969dfee44a0b1a436142fa56539e492189a/otter_grader-3.2.1-py3-none-any.whl (165kB)\n",
      "Collecting google-api-python-client (from otter-grader)\n",
      "  Downloading https://files.pythonhosted.org/packages/35/ee/718edb95cecc1686fac2afb2631f9f592690a12e13ea5b546db860ad489d/google_api_python_client-2.37.0-py2.py3-none-any.whl (8.1MB)\n",
      "Requirement already satisfied: pandas in d:\\users\\anomaly\\anaconda3\\lib\\site-packages (from otter-grader) (0.24.2)\n",
      "Collecting gspread (from otter-grader)\n",
      "  Downloading https://files.pythonhosted.org/packages/35/e0/3a4f258d960df62dd744093b9893e54d3ac251d194b6579f09508c4ec8dd/gspread-5.1.1-py3-none-any.whl\n",
      "Requirement already satisfied: google-auth-oauthlib in d:\\users\\anomaly\\anaconda3\\lib\\site-packages (from otter-grader) (0.4.1)\n",
      "Collecting python-on-whales (from otter-grader)\n",
      "  Downloading https://files.pythonhosted.org/packages/b7/4d/7e4b03b4df2ae2c93a6b71c2b3b8c6f2f8e96cba8fc0dbb68eac2b8fd7be/python_on_whales-0.37.0-py3-none-any.whl (90kB)\n",
      "Requirement already satisfied: jinja2 in d:\\users\\anomaly\\anaconda3\\lib\\site-packages (from otter-grader) (2.10.1)\n",
      "Requirement already satisfied: PyYAML in d:\\users\\anomaly\\anaconda3\\lib\\site-packages (from otter-grader) (5.1.1)\n",
      "Collecting PyPDF2 (from otter-grader)\n",
      "  Downloading https://files.pythonhosted.org/packages/b4/01/68fcc0d43daf4c6bdbc6b33cc3f77bda531c86b174cac56ef0ffdb96faab/PyPDF2-1.26.0.tar.gz (77kB)\n",
      "Collecting pdfkit (from otter-grader)\n",
      "  Downloading https://files.pythonhosted.org/packages/64/1b/26c080096dd93936dccfd32c682bed3d5630a84aae9d493ff68afb2ae0fb/pdfkit-1.0.0-py3-none-any.whl\n",
      "Requirement already satisfied: six in d:\\users\\anomaly\\anaconda3\\lib\\site-packages (from otter-grader) (1.12.0)\n",
      "Requirement already satisfied: matplotlib in d:\\users\\anomaly\\anaconda3\\lib\\site-packages (from otter-grader) (3.1.0)\n",
      "Requirement already satisfied: nbconvert in d:\\users\\anomaly\\anaconda3\\lib\\site-packages (from otter-grader) (5.5.0)\n",
      "Collecting dill (from otter-grader)\n",
      "  Downloading https://files.pythonhosted.org/packages/b6/c3/973676ceb86b60835bb3978c6db67a5dc06be6cfdbd14ef0f5a13e3fc9fd/dill-0.3.4-py2.py3-none-any.whl (86kB)\n",
      "Requirement already satisfied: jupyter-client in d:\\users\\anomaly\\anaconda3\\lib\\site-packages (from otter-grader) (5.3.1)\n",
      "Requirement already satisfied: ipykernel in d:\\users\\anomaly\\anaconda3\\lib\\site-packages (from otter-grader) (5.1.1)\n",
      "Requirement already satisfied: requests in d:\\users\\anomaly\\anaconda3\\lib\\site-packages (from otter-grader) (2.22.0)\n",
      "Requirement already satisfied: nbformat in d:\\users\\anomaly\\anaconda3\\lib\\site-packages (from otter-grader) (4.4.0)\n",
      "Collecting httplib2<1dev,>=0.15.0 (from google-api-python-client->otter-grader)\n",
      "  Downloading https://files.pythonhosted.org/packages/59/0f/29725a9caf4b2618f524e0f28e2bda91aca8f880123ec77426ede6ea1ea4/httplib2-0.20.4-py3-none-any.whl (96kB)\n",
      "Collecting google-auth<3.0.0dev,>=1.16.0 (from google-api-python-client->otter-grader)\n",
      "  Downloading https://files.pythonhosted.org/packages/66/12/eb8e0254e84f47deb4bd65858aef26f93fb4786091442d6bd2e86a5843d3/google_auth-2.6.0-py2.py3-none-any.whl (156kB)\n",
      "Collecting uritemplate<5,>=3.0.1 (from google-api-python-client->otter-grader)\n",
      "  Downloading https://files.pythonhosted.org/packages/81/c0/7461b49cd25aeece13766f02ee576d1db528f1c37ce69aee300e075b485b/uritemplate-4.1.1-py2.py3-none-any.whl\n",
      "Collecting google-auth-httplib2>=0.1.0 (from google-api-python-client->otter-grader)\n",
      "  Downloading https://files.pythonhosted.org/packages/ba/db/721e2f3f32339080153995d16e46edc3a7657251f167ddcb9327e632783b/google_auth_httplib2-0.1.0-py2.py3-none-any.whl\n",
      "Collecting google-api-core<3.0.0dev,>=1.21.0 (from google-api-python-client->otter-grader)\n",
      "  Downloading https://files.pythonhosted.org/packages/20/ca/db3b51439a29e29d94df81bef558ecdf7ca481e925cc99e90c126a6d3f7a/google_api_core-2.5.0-py2.py3-none-any.whl (111kB)\n",
      "Requirement already satisfied: pytz>=2011k in d:\\users\\anomaly\\anaconda3\\lib\\site-packages (from pandas->otter-grader) (2019.1)\n",
      "Requirement already satisfied: numpy>=1.12.0 in d:\\users\\anomaly\\anaconda3\\lib\\site-packages (from pandas->otter-grader) (1.16.4)\n",
      "Requirement already satisfied: python-dateutil>=2.5.0 in d:\\users\\anomaly\\anaconda3\\lib\\site-packages (from pandas->otter-grader) (2.8.0)\n",
      "Requirement already satisfied: requests-oauthlib>=0.7.0 in d:\\users\\anomaly\\anaconda3\\lib\\site-packages (from google-auth-oauthlib->otter-grader) (1.3.0)\n",
      "Requirement already satisfied: tqdm in d:\\users\\anomaly\\anaconda3\\lib\\site-packages (from python-on-whales->otter-grader) (4.32.1)\n",
      "Collecting typer (from python-on-whales->otter-grader)\n",
      "  Downloading https://files.pythonhosted.org/packages/4f/bd/77f6cb38c291717c5109cc2638086033fd7de4f8aeb0ed95e9ed484efa82/typer-0.4.0-py3-none-any.whl\n",
      "Collecting pydantic (from python-on-whales->otter-grader)\n",
      "  Downloading https://files.pythonhosted.org/packages/5b/bb/1f5bf5dcbb2881750e5e2449b9e8d128ac387ba129fc71bb5e7c681b12e1/pydantic-1.9.0-cp37-cp37m-win_amd64.whl (2.0MB)\n",
      "Requirement already satisfied: MarkupSafe>=0.23 in d:\\users\\anomaly\\anaconda3\\lib\\site-packages (from jinja2->otter-grader) (1.1.1)\n",
      "Requirement already satisfied: cycler>=0.10 in d:\\users\\anomaly\\anaconda3\\lib\\site-packages (from matplotlib->otter-grader) (0.10.0)\n",
      "Requirement already satisfied: kiwisolver>=1.0.1 in d:\\users\\anomaly\\anaconda3\\lib\\site-packages (from matplotlib->otter-grader) (1.1.0)\n",
      "Requirement already satisfied: pyparsing!=2.0.4,!=2.1.2,!=2.1.6,>=2.0.1 in d:\\users\\anomaly\\anaconda3\\lib\\site-packages (from matplotlib->otter-grader) (2.4.0)\n",
      "Requirement already satisfied: pandocfilters>=1.4.1 in d:\\users\\anomaly\\anaconda3\\lib\\site-packages (from nbconvert->otter-grader) (1.4.2)\n",
      "Requirement already satisfied: testpath in d:\\users\\anomaly\\anaconda3\\lib\\site-packages (from nbconvert->otter-grader) (0.4.2)\n",
      "Requirement already satisfied: entrypoints>=0.2.2 in d:\\users\\anomaly\\anaconda3\\lib\\site-packages (from nbconvert->otter-grader) (0.3)\n",
      "Requirement already satisfied: pygments in d:\\users\\anomaly\\anaconda3\\lib\\site-packages (from nbconvert->otter-grader) (2.4.2)\n",
      "Requirement already satisfied: bleach in d:\\users\\anomaly\\anaconda3\\lib\\site-packages (from nbconvert->otter-grader) (3.1.0)\n",
      "Requirement already satisfied: defusedxml in d:\\users\\anomaly\\anaconda3\\lib\\site-packages (from nbconvert->otter-grader) (0.6.0)\n",
      "Requirement already satisfied: mistune>=0.8.1 in d:\\users\\anomaly\\anaconda3\\lib\\site-packages (from nbconvert->otter-grader) (0.8.4)\n",
      "Requirement already satisfied: jupyter-core in d:\\users\\anomaly\\anaconda3\\lib\\site-packages (from nbconvert->otter-grader) (4.5.0)\n",
      "Requirement already satisfied: traitlets>=4.2 in d:\\users\\anomaly\\anaconda3\\lib\\site-packages (from nbconvert->otter-grader) (4.3.2)\n",
      "Requirement already satisfied: pyzmq>=13 in d:\\users\\anomaly\\anaconda3\\lib\\site-packages (from jupyter-client->otter-grader) (18.0.0)\n",
      "Requirement already satisfied: tornado>=4.1 in d:\\users\\anomaly\\anaconda3\\lib\\site-packages (from jupyter-client->otter-grader) (6.0.3)\n",
      "Requirement already satisfied: ipython>=5.0.0 in d:\\users\\anomaly\\anaconda3\\lib\\site-packages (from ipykernel->otter-grader) (7.6.1)\n",
      "Requirement already satisfied: urllib3!=1.25.0,!=1.25.1,<1.26,>=1.21.1 in d:\\users\\anomaly\\anaconda3\\lib\\site-packages (from requests->otter-grader) (1.24.2)\n",
      "Requirement already satisfied: chardet<3.1.0,>=3.0.2 in d:\\users\\anomaly\\anaconda3\\lib\\site-packages (from requests->otter-grader) (3.0.4)\n",
      "Requirement already satisfied: certifi>=2017.4.17 in d:\\users\\anomaly\\anaconda3\\lib\\site-packages (from requests->otter-grader) (2021.10.8)\n",
      "Requirement already satisfied: idna<2.9,>=2.5 in d:\\users\\anomaly\\anaconda3\\lib\\site-packages (from requests->otter-grader) (2.8)\n",
      "Requirement already satisfied: ipython-genutils in d:\\users\\anomaly\\anaconda3\\lib\\site-packages (from nbformat->otter-grader) (0.2.0)\n",
      "Requirement already satisfied: jsonschema!=2.5.0,>=2.4 in d:\\users\\anomaly\\anaconda3\\lib\\site-packages (from nbformat->otter-grader) (3.0.1)\n",
      "Requirement already satisfied: cachetools<6.0,>=2.0.0 in d:\\users\\anomaly\\anaconda3\\lib\\site-packages (from google-auth<3.0.0dev,>=1.16.0->google-api-python-client->otter-grader) (4.0.0)\n",
      "Requirement already satisfied: pyasn1-modules>=0.2.1 in d:\\users\\anomaly\\anaconda3\\lib\\site-packages (from google-auth<3.0.0dev,>=1.16.0->google-api-python-client->otter-grader) (0.2.8)\n",
      "Requirement already satisfied: rsa<5,>=3.1.4; python_version >= \"3.6\" in d:\\users\\anomaly\\anaconda3\\lib\\site-packages (from google-auth<3.0.0dev,>=1.16.0->google-api-python-client->otter-grader) (4.0)\n",
      "Collecting googleapis-common-protos<2.0dev,>=1.52.0 (from google-api-core<3.0.0dev,>=1.21.0->google-api-python-client->otter-grader)\n",
      "  Downloading https://files.pythonhosted.org/packages/5d/d2/38c15431197c137358968b5d2e17184832a4447d3580b03617824af71020/googleapis_common_protos-1.54.0-py2.py3-none-any.whl (207kB)\n",
      "Collecting protobuf>=3.12.0 (from google-api-core<3.0.0dev,>=1.21.0->google-api-python-client->otter-grader)\n",
      "  Downloading https://files.pythonhosted.org/packages/b3/41/5e2dfb15fdae38be5dd62be30f9fd40c57e50bd56ee2c276f6230c57a3ad/protobuf-3.19.4-cp37-cp37m-win_amd64.whl (896kB)\n",
      "Requirement already satisfied: oauthlib>=3.0.0 in d:\\users\\anomaly\\anaconda3\\lib\\site-packages (from requests-oauthlib>=0.7.0->google-auth-oauthlib->otter-grader) (3.1.0)\n",
      "Collecting click<9.0.0,>=7.1.1 (from typer->python-on-whales->otter-grader)\n",
      "  Downloading https://files.pythonhosted.org/packages/4a/a8/0b2ced25639fb20cc1c9784de90a8c25f9504a7f18cd8b5397bd61696d7d/click-8.0.4-py3-none-any.whl (97kB)\n",
      "Collecting typing-extensions>=3.7.4.3 (from pydantic->python-on-whales->otter-grader)\n",
      "  Using cached https://files.pythonhosted.org/packages/45/6b/44f7f8f1e110027cf88956b59f2fad776cca7e1704396d043f89effd3a0e/typing_extensions-4.1.1-py3-none-any.whl\n",
      "Requirement already satisfied: setuptools in d:\\users\\anomaly\\anaconda3\\lib\\site-packages (from kiwisolver>=1.0.1->matplotlib->otter-grader) (41.0.1)\n",
      "Requirement already satisfied: webencodings in d:\\users\\anomaly\\anaconda3\\lib\\site-packages (from bleach->nbconvert->otter-grader) (0.5.1)\n",
      "Requirement already satisfied: decorator in d:\\users\\anomaly\\anaconda3\\lib\\site-packages (from traitlets>=4.2->nbconvert->otter-grader) (4.4.0)\n",
      "Requirement already satisfied: colorama; sys_platform == \"win32\" in d:\\users\\anomaly\\anaconda3\\lib\\site-packages (from ipython>=5.0.0->ipykernel->otter-grader) (0.4.1)\n",
      "Requirement already satisfied: backcall in d:\\users\\anomaly\\anaconda3\\lib\\site-packages (from ipython>=5.0.0->ipykernel->otter-grader) (0.1.0)\n",
      "Requirement already satisfied: jedi>=0.10 in d:\\users\\anomaly\\anaconda3\\lib\\site-packages (from ipython>=5.0.0->ipykernel->otter-grader) (0.13.3)\n",
      "Requirement already satisfied: prompt-toolkit<2.1.0,>=2.0.0 in d:\\users\\anomaly\\anaconda3\\lib\\site-packages (from ipython>=5.0.0->ipykernel->otter-grader) (2.0.9)\n",
      "Requirement already satisfied: pickleshare in d:\\users\\anomaly\\anaconda3\\lib\\site-packages (from ipython>=5.0.0->ipykernel->otter-grader) (0.7.5)\n",
      "Requirement already satisfied: attrs>=17.4.0 in d:\\users\\anomaly\\anaconda3\\lib\\site-packages (from jsonschema!=2.5.0,>=2.4->nbformat->otter-grader) (19.1.0)\n",
      "Requirement already satisfied: pyrsistent>=0.14.0 in d:\\users\\anomaly\\anaconda3\\lib\\site-packages (from jsonschema!=2.5.0,>=2.4->nbformat->otter-grader) (0.14.11)\n",
      "Requirement already satisfied: pyasn1<0.5.0,>=0.4.6 in d:\\users\\anomaly\\anaconda3\\lib\\site-packages (from pyasn1-modules>=0.2.1->google-auth<3.0.0dev,>=1.16.0->google-api-python-client->otter-grader) (0.4.8)\n",
      "Requirement already satisfied: importlib-metadata; python_version < \"3.8\" in d:\\users\\anomaly\\anaconda3\\lib\\site-packages (from click<9.0.0,>=7.1.1->typer->python-on-whales->otter-grader) (0.17)\n",
      "Requirement already satisfied: parso>=0.3.0 in d:\\users\\anomaly\\anaconda3\\lib\\site-packages (from jedi>=0.10->ipython>=5.0.0->ipykernel->otter-grader) (0.5.0)\n",
      "Requirement already satisfied: wcwidth in d:\\users\\anomaly\\anaconda3\\lib\\site-packages (from prompt-toolkit<2.1.0,>=2.0.0->ipython>=5.0.0->ipykernel->otter-grader) (0.1.7)\n",
      "Requirement already satisfied: zipp>=0.5 in d:\\users\\anomaly\\anaconda3\\lib\\site-packages (from importlib-metadata; python_version < \"3.8\"->click<9.0.0,>=7.1.1->typer->python-on-whales->otter-grader) (0.5.1)\n",
      "Building wheels for collected packages: PyPDF2\n",
      "  Building wheel for PyPDF2 (setup.py): started\n",
      "  Building wheel for PyPDF2 (setup.py): finished with status 'done'\n",
      "  Stored in directory: C:\\Users\\ANOMALY\\AppData\\Local\\pip\\Cache\\wheels\\53\\84\\19\\35bc977c8bf5f0c23a8a011aa958acd4da4bbd7a229315c1b7\n",
      "Successfully built PyPDF2\n",
      "Installing collected packages: httplib2, google-auth, uritemplate, google-auth-httplib2, protobuf, googleapis-common-protos, google-api-core, google-api-python-client, gspread, click, typer, typing-extensions, pydantic, python-on-whales, PyPDF2, pdfkit, dill, otter-grader\n",
      "  Found existing installation: google-auth 1.11.2\n",
      "    Uninstalling google-auth-1.11.2:\n",
      "      Successfully uninstalled google-auth-1.11.2\n",
      "  Found existing installation: protobuf 3.11.3\n",
      "    Uninstalling protobuf-3.11.3:\n",
      "      Successfully uninstalled protobuf-3.11.3\n",
      "  Found existing installation: Click 7.0\n",
      "    Uninstalling Click-7.0:\n",
      "      Successfully uninstalled Click-7.0\n",
      "Successfully installed PyPDF2-1.26.0 click-8.0.4 dill-0.3.4 google-api-core-2.5.0 google-api-python-client-2.37.0 google-auth-2.6.0 google-auth-httplib2-0.1.0 googleapis-common-protos-1.54.0 gspread-5.1.1 httplib2-0.20.4 otter-grader-3.2.1 pdfkit-1.0.0 protobuf-3.19.4 pydantic-1.9.0 python-on-whales-0.37.0 typer-0.4.0 typing-extensions-4.1.1 uritemplate-4.1.1\n"
     ]
    },
    {
     "name": "stderr",
     "output_type": "stream",
     "text": [
      "ERROR: httplib2 0.20.4 has requirement pyparsing!=3.0.0,!=3.0.1,!=3.0.2,!=3.0.3,<4,>=2.4.2; python_version > \"3.0\", but you'll have pyparsing 2.4.0 which is incompatible.\n"
     ]
    }
   ],
   "source": [
    "!pip install otter-grader"
   ]
  },
  {
   "cell_type": "markdown",
   "metadata": {
    "tags": []
   },
   "source": [
    "# <mark style=\"background: #008030; color: #ffffff;\" >B</mark> Week 3: Practice Testing & Debugging\n",
    "\n",
    "------\n",
    "\n",
    "### Instructions:\n",
    "\n",
    "- Attempt & submit to pass the assessment\n",
    "  - You can attempt any number of questions and in any order provided.\n",
    "  - The more you practice, the better you'll get ;)\n",
    "- Some of these questions can be done direclty in this notebook, while others should be attempted in a Unix Shell\n",
    "- Be sute to check your work before submitting.\n",
    "  - Do not remove the `'''` or other provided markings from the answer spaces.\n",
    "  - Do not make any changes to this notebook outside of the answer spaces provided.\n",
    "  \n",
    "#### Submitting\n",
    "\n",
    "- Reset your outputs before submitting\n",
    "  - Select the `Kernel` menu, then either `Restart & Run Clear Output` or `Restart & Run All`\n",
    "  - Don't forget to save your notebook after this step\n",
    "- Submit your .ipynb file to Gradescope using Git & GitHub\n",
    "- You can submit as many times as needed\n",
    "- When reviewing results, ignore any results listed under \"Public Tests\"  \n",
    "  (There are no \"Public Tests\" in this assignment)\n",
    "\n",
    "For more information, see the assessment page."
   ]
  },
  {
   "cell_type": "markdown",
   "metadata": {},
   "source": [
    "#### Question 01 &nbsp;&nbsp;&nbsp;&nbsp;&nbsp;&nbsp;(5 Points)\n",
    "\n",
    "Consider a function `add()` that you want to use in your code. You cannot review the function's code, but know from its documentation that:\n",
    "* You can invoke the function using `add(x, y)` where `x` and `y` are inputs.\n",
    "* This function adds two integers together and returns the result.\n",
    "\n",
    "Design a single unit test, using an assertion, to ensure the function does not also concatenate strings. If the test fails, your code should output \"Unit Test failed\"."
   ]
  },
  {
   "cell_type": "code",
   "execution_count": 17,
   "metadata": {
    "tags": []
   },
   "outputs": [],
   "source": [
    "def question1_tests(add):\n",
    "    x=\"a\"\n",
    "    y=\"b\"\n",
    "    #Write your solution here\n",
    "    assert (type(x)== type(y) == int),\"Unit Test failed\"\n",
    "    add(x,y)    "
   ]
  },
  {
   "cell_type": "code",
   "execution_count": 18,
   "metadata": {
    "deletable": false,
    "editable": false
   },
   "outputs": [
    {
     "data": {
      "text/html": [
       "<p><strong><pre style='display: inline;'>Question 01</pre></strong> passed!</p>"
      ],
      "text/plain": [
       "Question 01 results: All test cases passed!"
      ]
     },
     "execution_count": 18,
     "metadata": {},
     "output_type": "execute_result"
    }
   ],
   "source": [
    "grader.check(\"Question 01\")"
   ]
  },
  {
   "cell_type": "markdown",
   "metadata": {},
   "source": [
    "#### Question 02 &nbsp;&nbsp;&nbsp;&nbsp;&nbsp;&nbsp;(5 Points)\n",
    "\n",
    "The code below is supposed to print a festive message but has a bug (oh no!)\n",
    "\n",
    "Find the bug using **static analysis**, then fix the code below."
   ]
  },
  {
   "cell_type": "code",
   "execution_count": 9,
   "metadata": {
    "tags": []
   },
   "outputs": [
    {
     "name": "stdout",
     "output_type": "stream",
     "text": [
      "Happy New Year! It's 2022!\n"
     ]
    }
   ],
   "source": [
    "def saySentence(a, b, c, d, e, f, g):\n",
    "    var7 = a + d + b + d + c + e + d + f + d + str(g) + e\n",
    "    return var7\n",
    "\n",
    "var1 = 'Happy'\n",
    "var2 = 'New'\n",
    "var3 = 'Year'\n",
    "var4 = ' '\n",
    "var5 = '!'\n",
    "var6 = 'It\\'s'\n",
    "var7 = 2022\n",
    "\n",
    "print(saySentence(var1, var2, var3, var4, var5, var6, var7))"
   ]
  },
  {
   "cell_type": "markdown",
   "metadata": {},
   "source": [
    "#### Question 03 &nbsp;&nbsp;&nbsp;&nbsp;&nbsp;&nbsp;(10 Points)\n",
    "\n",
    "Consider a function `maximum()` that you want to use in your code. You cannot review the function's code, but know from its documentation that:\n",
    "* You can invoke the function using `maximum(x, y)` where `x` and `y` are inputs.\n",
    "* This function takes two integers and returns the higher of the two.\n",
    "  * If x and y are the same, it that value.\n",
    "\n",
    "Design unit tests, using assertions, to test the function's correctness. Find a case where the code returns the wrong value. The test that fails should output \"Unit Test failed\".\n",
    "\n",
    "You can verify your tests by running the cell marked below."
   ]
  },
  {
   "cell_type": "code",
   "execution_count": null,
   "metadata": {
    "tags": []
   },
   "outputs": [],
   "source": [
    "def question3_tests(maximum):\n",
    "    \n",
    "    # Write your solution here\n",
    "    \n"
   ]
  },
  {
   "cell_type": "code",
   "execution_count": null,
   "metadata": {
    "deletable": false,
    "editable": false
   },
   "outputs": [],
   "source": [
    "grader.check(\"Question 03\")"
   ]
  },
  {
   "cell_type": "markdown",
   "metadata": {},
   "source": [
    "#### Question 04 &nbsp;&nbsp;&nbsp;&nbsp;&nbsp;&nbsp;(10 Points)\n",
    "\n",
    "The code below is supposed to print every prime number between 2 and 20 but has a bug (oh no!)\n",
    "\n",
    "Find the bug using **static analysis**, then fix the code below."
   ]
  },
  {
   "cell_type": "code",
   "execution_count": null,
   "metadata": {
    "tags": []
   },
   "outputs": [],
   "source": [
    "def print_primes():\n",
    "\n",
    "    i = 2\n",
    "    j = 2\n",
    "    isComposite = False\n",
    "    result = ''\n",
    "\n",
    "    while i <= 20:\n",
    "        while j < i:\n",
    "            if i % j == 0:\n",
    "                isComposite = True\n",
    "                break\n",
    "            j = j + 1\n",
    "\n",
    "        if not isComposite:\n",
    "            result = result + str(i) + ' '\n",
    "\n",
    "        iscomposite = False\n",
    "        j = 2\n",
    "        i = i + 1\n",
    "\n",
    "    print(result)\n",
    "    \n",
    "print_primes()"
   ]
  },
  {
   "cell_type": "markdown",
   "metadata": {},
   "source": [
    "#### Question 05 &nbsp;&nbsp;&nbsp;&nbsp;&nbsp;&nbsp;(15 Points)\n",
    "\n",
    "The following code has a bug.  \n",
    "It is supposed to take string and repeat that string once for each character in that string, up to a maximum of 10 repeats.  \n",
    "For example, the input 'foo' has 3 characters, so the output should be 'foofoofoo'.\n",
    "\n",
    "Find the bug using **pdb**/**ipdb**, then fix the code below."
   ]
  },
  {
   "cell_type": "code",
   "execution_count": null,
   "metadata": {
    "tags": []
   },
   "outputs": [],
   "source": [
    "def repeat_string(s):\n",
    "    if type(s) != str:\n",
    "        raise TypeError('This function only takes string inputs');\n",
    "    \n",
    "    count = 0\n",
    "    n = len(s)\n",
    "    \n",
    "\n",
    "    while count < len(s):\n",
    "        s += s\n",
    "        count += 1\n",
    "        \n",
    "        if count >= 10:\n",
    "            break\n",
    "\n",
    "    \n",
    "    return s\n",
    "\n",
    "s = 'foo'\n",
    "print(repeat_string(s))"
   ]
  },
  {
   "cell_type": "markdown",
   "metadata": {},
   "source": [
    "#### Question 06 &nbsp;&nbsp;&nbsp;&nbsp;&nbsp;&nbsp;(15 Points) \n",
    "\n",
    "The following code crashes when the `counter` variable becomes or exceeds 100. \n",
    "\n",
    "Use **pdb**/**ipdb** to find the value of `result` when the program crashed. You are recommended to do this using pdb/ipdb as a script from the terminal, as this sets up post mortem debugging automatically for you, otherwise there are less than 20 runs of this loop, making it easy to manually step through checking variables with smart breakpoint placement.\n",
    "\n",
    "```python\n",
    "result = 1\n",
    "counter = 1\n",
    "while counter < 100:\n",
    "    result = result * 2\n",
    "    counter = counter * 5 % result\n",
    "raise Exception('Crashed!')\n",
    "```"
   ]
  },
  {
   "cell_type": "markdown",
   "metadata": {},
   "source": [
    "Find the value of `result` at the time of the crash, and enter it in the space provided"
   ]
  },
  {
   "cell_type": "code",
   "execution_count": null,
   "metadata": {
    "tags": []
   },
   "outputs": [],
   "source": [
    "result_value = ..."
   ]
  },
  {
   "cell_type": "markdown",
   "metadata": {},
   "source": [
    "#### Question 07 &nbsp;&nbsp;&nbsp;&nbsp;&nbsp;&nbsp;(20 Points)\n",
    "\n",
    "Consider a function `remove()` that you want to use in your code. You cannot review the function's code, but know from its documentation that:\n",
    "* You can invoke the function using `remove(x, y)` where `x` and `y` are inputs.\n",
    "* This function takes two strings. All instances of the second string are removed from the first string. For example `remove('hello', 'l')` returns `heo`.\n",
    "\n",
    "Design unit tests, using assertions, to test the function's correctness. Find a case where the code returns the wrong string. The test that fails should output \"Unit Test failed\".\n",
    "\n",
    "You can verify your tests by running the cell marked below."
   ]
  },
  {
   "cell_type": "code",
   "execution_count": null,
   "metadata": {
    "tags": []
   },
   "outputs": [],
   "source": [
    "def question7_tests(remove):\n",
    "    \n",
    "    # Write your solution here\n",
    "    "
   ]
  },
  {
   "cell_type": "code",
   "execution_count": null,
   "metadata": {
    "deletable": false,
    "editable": false
   },
   "outputs": [],
   "source": [
    "grader.check(\"Question 07\")"
   ]
  },
  {
   "cell_type": "markdown",
   "metadata": {},
   "source": [
    "#### Question 08 &nbsp;&nbsp;&nbsp;&nbsp;&nbsp;&nbsp;(20 Points)\n",
    "\n",
    "Consider a function `school_addition()` that you want to use in your code. You cannot review the function's code, but know from its documentation that:\n",
    "* You can invoke the function using `school_addition(x, y)` where `x` and `y` are inputs.\n",
    "* This function takes two integers between 0 and 99 (inclusive) and returns their sum.\n",
    "\n",
    "Design unit tests, using assertions to test the function's correctness. Find a case where the code returns the wrong value. The test that fails should output \"Unit Test failed\"."
   ]
  },
  {
   "cell_type": "code",
   "execution_count": null,
   "metadata": {
    "tags": []
   },
   "outputs": [],
   "source": [
    "def question8_tests(school_addition):\n",
    "    \n",
    "    # Write your solution here\n",
    "    "
   ]
  },
  {
   "cell_type": "code",
   "execution_count": null,
   "metadata": {
    "deletable": false,
    "editable": false
   },
   "outputs": [],
   "source": [
    "grader.check(\"Question 08\")"
   ]
  }
 ],
 "metadata": {
  "kernelspec": {
   "display_name": "Python 3",
   "language": "python",
   "name": "python3"
  },
  "language_info": {
   "codemirror_mode": {
    "name": "ipython",
    "version": 3
   },
   "file_extension": ".py",
   "mimetype": "text/x-python",
   "name": "python",
   "nbconvert_exporter": "python",
   "pygments_lexer": "ipython3",
   "version": "3.7.3"
  },
  "otter": {
   "tests": {
    "Question 01": {
     "name": "Question 01",
     "points": 5,
     "suites": [
      {
       "cases": [
        {
         "code": ">>> def add_bad(x, y):\n...     return x + y;\n>>> \n>>> try:\n...     out = '';\n...     question1_tests(add_bad);\n... except AssertionError:\n...     out = 'One of your assertions has failed. Well done; your tests have exposed a bug.';\n... except Exception as e:\n...     raise e\n... else:\n...     out = 'All of your assertions have passed. Bug NOT found.';\n...     \n>>> out\n'One of your assertions has failed. Well done; your tests have exposed a bug.'",
         "hidden": false,
         "locked": false
        }
       ],
       "scored": true,
       "setup": "",
       "teardown": "",
       "type": "doctest"
      }
     ]
    },
    "Question 02": {
     "name": "Question 02",
     "points": 5,
     "suites": [
      {
       "cases": [],
       "scored": true,
       "setup": "",
       "teardown": "",
       "type": "doctest"
      }
     ]
    },
    "Question 03": {
     "name": "Question 03",
     "points": 10,
     "suites": [
      {
       "cases": [
        {
         "code": ">>> def maximum_bad(x, y):\n...     if type(x) != int or type(y) != int:\n...         raise TypeError('This function only takes integer inputs');\n...     \n...     if y > x:\n...         return y;\n...     elif x == y:               \n...         return 0               \n...     else:\n...         return x;\n>>> \n>>> try:\n...     question3_tests(maximum_bad);\n...     out = '';\n... except AssertionError:\n...     out = 'One of your assertions has failed. Well done; your tests have exposed a bug.';\n... except Exception as e:\n...     raise e\n... else:\n...     out = 'All of your assertions have passed. Bug NOT found.';\n...     \n>>> out\n'One of your assertions has failed. Well done; your tests have exposed a bug.'",
         "hidden": false,
         "locked": false
        }
       ],
       "scored": true,
       "setup": "",
       "teardown": "",
       "type": "doctest"
      }
     ]
    },
    "Question 04": {
     "name": "Question 04",
     "points": 10,
     "suites": [
      {
       "cases": [
        {
         "code": ">>> print_primes()\n2 3 \n",
         "hidden": false,
         "locked": false
        }
       ],
       "scored": true,
       "setup": "",
       "teardown": "",
       "type": "doctest"
      }
     ]
    },
    "Question 05": {
     "name": "Question 05",
     "points": 15,
     "suites": [
      {
       "cases": [],
       "scored": true,
       "setup": "",
       "teardown": "",
       "type": "doctest"
      }
     ]
    },
    "Question 06": {
     "name": "Question 06",
     "points": 15,
     "suites": [
      {
       "cases": [
        {
         "code": ">>> result_value\n512",
         "hidden": false,
         "locked": false
        }
       ],
       "scored": true,
       "setup": "",
       "teardown": "",
       "type": "doctest"
      }
     ]
    },
    "Question 07": {
     "name": "Question 07",
     "points": 20,
     "suites": [
      {
       "cases": [
        {
         "code": ">>> def remove_bad(x, y):\n...     if type(x) != str or type(y) != str:\n...         raise TypeError('This function only takes string inputs');\n...     result = x;\n...     # if y is blank remove all characters (bug)\n...     if y == '':\n...         return '';\n...     # otherwise perform code correctly\n...     result.replace(y, '');\n...     return result;\n>>> \n>>> \n>>> try:\n...     question7_tests(remove_bad);\n...     out = '';\n... except AssertionError:\n...     out = 'One of your assertions has failed. Well done; your tests have exposed a bug.';\n... except Exception as e:\n...     raise e\n... else:\n...     out = 'All of your assertions have passed. Bug NOT found.';\n...     \n>>> out\n'One of your assertions has failed. Well done; your tests have exposed a bug.'",
         "hidden": false,
         "locked": false
        }
       ],
       "scored": true,
       "setup": "",
       "teardown": "",
       "type": "doctest"
      }
     ]
    },
    "Question 08": {
     "name": "Question 08",
     "points": 20,
     "suites": [
      {
       "cases": [
        {
         "code": ">>> def school_addition_bad(x, y):\n...     if type(x) != int or type(y) != int:\n...         raise TypeError('This function only takes integer inputs');\n...     if x < 0 or x > 100 or y < 0 or y > 100:\n...         raise ValueError('Inputs must be in the range 0 to 99 (inclusive)');\n...     \n...     x_1 = x // 10;\n...     x_2 = x % 10;\n...     y_1 = y // 10;\n...     y_2 = y % 10;\n...     \n...     r_2 = x_2 + y_2;\n...     c = r_2 // 10;\n...     r_2 = r_2 % 10;\n...     \n...     r_1 = x_1 + y_1 + c;\n...     c = r_1 // 10;\n...     r_1 = r_1 % 10;\n...     \n...     r_0 = c;\n...     r = r_0 * 10*2 + r_1 * 10**1 + r_2;\n...     \n...     return r;\n>>> \n>>> \n>>> try:\n...     question8_tests(school_addition_bad);\n...     out = '';\n... except AssertionError:\n...     out = 'One of your assertions has failed. Well done; your tests have exposed a bug.';\n... except Exception as e:\n...     raise e\n... else:\n...     out = 'All of your assertions have passed. Bug NOT found.';\n...     \n>>> out\n'One of your assertions has failed. Well done; your tests have exposed a bug.'",
         "hidden": false,
         "locked": false
        }
       ],
       "scored": true,
       "setup": "",
       "teardown": "",
       "type": "doctest"
      }
     ]
    }
   }
  },
  "varInspector": {
   "cols": {
    "lenName": 16,
    "lenType": 16,
    "lenVar": 40
   },
   "kernels_config": {
    "python": {
     "delete_cmd_postfix": "",
     "delete_cmd_prefix": "del ",
     "library": "var_list.py",
     "varRefreshCmd": "print(var_dic_list())"
    },
    "r": {
     "delete_cmd_postfix": ") ",
     "delete_cmd_prefix": "rm(",
     "library": "var_list.r",
     "varRefreshCmd": "cat(var_dic_list()) "
    }
   },
   "types_to_exclude": [
    "module",
    "function",
    "builtin_function_or_method",
    "instance",
    "_Feature"
   ],
   "window_display": false
  }
 },
 "nbformat": 4,
 "nbformat_minor": 4
}
